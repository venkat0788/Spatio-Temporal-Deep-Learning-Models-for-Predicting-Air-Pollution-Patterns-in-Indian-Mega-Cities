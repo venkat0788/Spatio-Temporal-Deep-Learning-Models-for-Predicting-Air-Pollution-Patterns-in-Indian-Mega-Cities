{
 "cells": [
  {
   "cell_type": "code",
   "execution_count": 1,
   "id": "83dab8be",
   "metadata": {},
   "outputs": [],
   "source": [
    "import pandas as pd"
   ]
  },
  {
   "cell_type": "code",
   "execution_count": 2,
   "id": "fd97637f",
   "metadata": {},
   "outputs": [],
   "source": [
    "df=pd.read_csv(\"PIKemissionnew.csv\")"
   ]
  },
  {
   "cell_type": "code",
   "execution_count": 3,
   "id": "4ff3555a",
   "metadata": {},
   "outputs": [],
   "source": [
    "df.drop(columns=['country','Source','sector'], inplace=True)"
   ]
  },
  {
   "cell_type": "code",
   "execution_count": 4,
   "id": "f9cf5133",
   "metadata": {},
   "outputs": [
    {
     "data": {
      "text/html": [
       "<div>\n",
       "<style scoped>\n",
       "    .dataframe tbody tr th:only-of-type {\n",
       "        vertical-align: middle;\n",
       "    }\n",
       "\n",
       "    .dataframe tbody tr th {\n",
       "        vertical-align: top;\n",
       "    }\n",
       "\n",
       "    .dataframe thead th {\n",
       "        text-align: right;\n",
       "    }\n",
       "</style>\n",
       "<table border=\"1\" class=\"dataframe\">\n",
       "  <thead>\n",
       "    <tr style=\"text-align: right;\">\n",
       "      <th></th>\n",
       "      <th>gas</th>\n",
       "      <th>1850</th>\n",
       "      <th>1851</th>\n",
       "      <th>1852</th>\n",
       "      <th>1853</th>\n",
       "      <th>1854</th>\n",
       "      <th>1855</th>\n",
       "      <th>1856</th>\n",
       "      <th>1857</th>\n",
       "      <th>1858</th>\n",
       "      <th>...</th>\n",
       "      <th>2013</th>\n",
       "      <th>2014</th>\n",
       "      <th>2015</th>\n",
       "      <th>2016</th>\n",
       "      <th>2017</th>\n",
       "      <th>2018</th>\n",
       "      <th>2019</th>\n",
       "      <th>2020</th>\n",
       "      <th>2021</th>\n",
       "      <th>2022</th>\n",
       "    </tr>\n",
       "  </thead>\n",
       "  <tbody>\n",
       "    <tr>\n",
       "      <th>0</th>\n",
       "      <td>CH4</td>\n",
       "      <td>0.000199</td>\n",
       "      <td>0.000196</td>\n",
       "      <td>0.000195</td>\n",
       "      <td>0.000197</td>\n",
       "      <td>0.000199</td>\n",
       "      <td>0.000201</td>\n",
       "      <td>0.000209</td>\n",
       "      <td>0.000217</td>\n",
       "      <td>0.000226</td>\n",
       "      <td>...</td>\n",
       "      <td>0.029000</td>\n",
       "      <td>0.028250</td>\n",
       "      <td>0.027250</td>\n",
       "      <td>0.026250</td>\n",
       "      <td>0.025250</td>\n",
       "      <td>0.024675</td>\n",
       "      <td>0.023925</td>\n",
       "      <td>0.022875</td>\n",
       "      <td>0.022325</td>\n",
       "      <td>0.02195</td>\n",
       "    </tr>\n",
       "    <tr>\n",
       "      <th>1</th>\n",
       "      <td>CO2</td>\n",
       "      <td>0.000000</td>\n",
       "      <td>0.000000</td>\n",
       "      <td>0.000000</td>\n",
       "      <td>0.000000</td>\n",
       "      <td>0.000000</td>\n",
       "      <td>0.000000</td>\n",
       "      <td>0.000000</td>\n",
       "      <td>0.000000</td>\n",
       "      <td>0.000000</td>\n",
       "      <td>...</td>\n",
       "      <td>0.862000</td>\n",
       "      <td>0.873000</td>\n",
       "      <td>0.899000</td>\n",
       "      <td>0.884000</td>\n",
       "      <td>0.917000</td>\n",
       "      <td>0.940000</td>\n",
       "      <td>0.961000</td>\n",
       "      <td>0.878000</td>\n",
       "      <td>0.869000</td>\n",
       "      <td>0.88500</td>\n",
       "    </tr>\n",
       "    <tr>\n",
       "      <th>2</th>\n",
       "      <td>KYOTOGHG</td>\n",
       "      <td>0.000207</td>\n",
       "      <td>0.000204</td>\n",
       "      <td>0.000203</td>\n",
       "      <td>0.000206</td>\n",
       "      <td>0.000208</td>\n",
       "      <td>0.000210</td>\n",
       "      <td>0.000218</td>\n",
       "      <td>0.000227</td>\n",
       "      <td>0.000235</td>\n",
       "      <td>...</td>\n",
       "      <td>0.903000</td>\n",
       "      <td>0.915000</td>\n",
       "      <td>0.939000</td>\n",
       "      <td>0.925000</td>\n",
       "      <td>0.956000</td>\n",
       "      <td>0.978000</td>\n",
       "      <td>0.998000</td>\n",
       "      <td>0.912000</td>\n",
       "      <td>0.904000</td>\n",
       "      <td>0.92100</td>\n",
       "    </tr>\n",
       "    <tr>\n",
       "      <th>3</th>\n",
       "      <td>N2O</td>\n",
       "      <td>0.000008</td>\n",
       "      <td>0.000008</td>\n",
       "      <td>0.000009</td>\n",
       "      <td>0.000009</td>\n",
       "      <td>0.000009</td>\n",
       "      <td>0.000009</td>\n",
       "      <td>0.000009</td>\n",
       "      <td>0.000009</td>\n",
       "      <td>0.000009</td>\n",
       "      <td>...</td>\n",
       "      <td>0.012605</td>\n",
       "      <td>0.013499</td>\n",
       "      <td>0.013261</td>\n",
       "      <td>0.014721</td>\n",
       "      <td>0.013291</td>\n",
       "      <td>0.013082</td>\n",
       "      <td>0.013470</td>\n",
       "      <td>0.011175</td>\n",
       "      <td>0.012427</td>\n",
       "      <td>0.01344</td>\n",
       "    </tr>\n",
       "    <tr>\n",
       "      <th>4</th>\n",
       "      <td>CO2</td>\n",
       "      <td>0.000000</td>\n",
       "      <td>0.000000</td>\n",
       "      <td>0.000000</td>\n",
       "      <td>0.000000</td>\n",
       "      <td>0.000000</td>\n",
       "      <td>0.000000</td>\n",
       "      <td>0.000000</td>\n",
       "      <td>0.000000</td>\n",
       "      <td>0.000000</td>\n",
       "      <td>...</td>\n",
       "      <td>0.006260</td>\n",
       "      <td>0.006340</td>\n",
       "      <td>0.006490</td>\n",
       "      <td>0.006340</td>\n",
       "      <td>0.006290</td>\n",
       "      <td>0.006220</td>\n",
       "      <td>0.006350</td>\n",
       "      <td>0.006350</td>\n",
       "      <td>0.006350</td>\n",
       "      <td>0.00703</td>\n",
       "    </tr>\n",
       "  </tbody>\n",
       "</table>\n",
       "<p>5 rows × 174 columns</p>\n",
       "</div>"
      ],
      "text/plain": [
       "        gas      1850      1851      1852      1853      1854      1855  \\\n",
       "0       CH4  0.000199  0.000196  0.000195  0.000197  0.000199  0.000201   \n",
       "1       CO2  0.000000  0.000000  0.000000  0.000000  0.000000  0.000000   \n",
       "2  KYOTOGHG  0.000207  0.000204  0.000203  0.000206  0.000208  0.000210   \n",
       "3       N2O  0.000008  0.000008  0.000009  0.000009  0.000009  0.000009   \n",
       "4       CO2  0.000000  0.000000  0.000000  0.000000  0.000000  0.000000   \n",
       "\n",
       "       1856      1857      1858  ...      2013      2014      2015      2016  \\\n",
       "0  0.000209  0.000217  0.000226  ...  0.029000  0.028250  0.027250  0.026250   \n",
       "1  0.000000  0.000000  0.000000  ...  0.862000  0.873000  0.899000  0.884000   \n",
       "2  0.000218  0.000227  0.000235  ...  0.903000  0.915000  0.939000  0.925000   \n",
       "3  0.000009  0.000009  0.000009  ...  0.012605  0.013499  0.013261  0.014721   \n",
       "4  0.000000  0.000000  0.000000  ...  0.006260  0.006340  0.006490  0.006340   \n",
       "\n",
       "       2017      2018      2019      2020      2021     2022  \n",
       "0  0.025250  0.024675  0.023925  0.022875  0.022325  0.02195  \n",
       "1  0.917000  0.940000  0.961000  0.878000  0.869000  0.88500  \n",
       "2  0.956000  0.978000  0.998000  0.912000  0.904000  0.92100  \n",
       "3  0.013291  0.013082  0.013470  0.011175  0.012427  0.01344  \n",
       "4  0.006290  0.006220  0.006350  0.006350  0.006350  0.00703  \n",
       "\n",
       "[5 rows x 174 columns]"
      ]
     },
     "execution_count": 4,
     "metadata": {},
     "output_type": "execute_result"
    }
   ],
   "source": [
    "df.head()"
   ]
  },
  {
   "cell_type": "code",
   "execution_count": 5,
   "id": "3df6f5cb",
   "metadata": {},
   "outputs": [
    {
     "data": {
      "text/plain": [
       "array(['CH4', 'CO2', 'KYOTOGHG', 'N2O', 'F-Gas'], dtype=object)"
      ]
     },
     "execution_count": 5,
     "metadata": {},
     "output_type": "execute_result"
    }
   ],
   "source": [
    "df['gas'].unique()"
   ]
  },
  {
   "cell_type": "code",
   "execution_count": 6,
   "id": "8eda7754",
   "metadata": {},
   "outputs": [],
   "source": [
    "df['gas']=df['gas'].map({'CH4':0,'CO2':1,'KYOTOGHG':2,'N2O':3,'F-Gas':4})\n",
    "# df['gas'] = df['gas'].astype(float)"
   ]
  },
  {
   "cell_type": "code",
   "execution_count": 7,
   "id": "76197b97",
   "metadata": {},
   "outputs": [
    {
     "data": {
      "text/html": [
       "<div>\n",
       "<style scoped>\n",
       "    .dataframe tbody tr th:only-of-type {\n",
       "        vertical-align: middle;\n",
       "    }\n",
       "\n",
       "    .dataframe tbody tr th {\n",
       "        vertical-align: top;\n",
       "    }\n",
       "\n",
       "    .dataframe thead th {\n",
       "        text-align: right;\n",
       "    }\n",
       "</style>\n",
       "<table border=\"1\" class=\"dataframe\">\n",
       "  <thead>\n",
       "    <tr style=\"text-align: right;\">\n",
       "      <th></th>\n",
       "      <th>gas</th>\n",
       "      <th>1850</th>\n",
       "      <th>1851</th>\n",
       "      <th>1852</th>\n",
       "      <th>1853</th>\n",
       "      <th>1854</th>\n",
       "      <th>1855</th>\n",
       "      <th>1856</th>\n",
       "      <th>1857</th>\n",
       "      <th>1858</th>\n",
       "      <th>...</th>\n",
       "      <th>2013</th>\n",
       "      <th>2014</th>\n",
       "      <th>2015</th>\n",
       "      <th>2016</th>\n",
       "      <th>2017</th>\n",
       "      <th>2018</th>\n",
       "      <th>2019</th>\n",
       "      <th>2020</th>\n",
       "      <th>2021</th>\n",
       "      <th>2022</th>\n",
       "    </tr>\n",
       "  </thead>\n",
       "  <tbody>\n",
       "    <tr>\n",
       "      <th>0</th>\n",
       "      <td>0</td>\n",
       "      <td>0.000199</td>\n",
       "      <td>0.000196</td>\n",
       "      <td>0.000195</td>\n",
       "      <td>0.000197</td>\n",
       "      <td>0.000199</td>\n",
       "      <td>0.000201</td>\n",
       "      <td>0.000209</td>\n",
       "      <td>0.000217</td>\n",
       "      <td>0.000226</td>\n",
       "      <td>...</td>\n",
       "      <td>0.029</td>\n",
       "      <td>0.02825</td>\n",
       "      <td>0.02725</td>\n",
       "      <td>0.02625</td>\n",
       "      <td>0.02525</td>\n",
       "      <td>0.024675</td>\n",
       "      <td>0.023925</td>\n",
       "      <td>0.022875</td>\n",
       "      <td>0.022325</td>\n",
       "      <td>0.02195</td>\n",
       "    </tr>\n",
       "    <tr>\n",
       "      <th>1</th>\n",
       "      <td>1</td>\n",
       "      <td>0.000000</td>\n",
       "      <td>0.000000</td>\n",
       "      <td>0.000000</td>\n",
       "      <td>0.000000</td>\n",
       "      <td>0.000000</td>\n",
       "      <td>0.000000</td>\n",
       "      <td>0.000000</td>\n",
       "      <td>0.000000</td>\n",
       "      <td>0.000000</td>\n",
       "      <td>...</td>\n",
       "      <td>0.862</td>\n",
       "      <td>0.87300</td>\n",
       "      <td>0.89900</td>\n",
       "      <td>0.88400</td>\n",
       "      <td>0.91700</td>\n",
       "      <td>0.940000</td>\n",
       "      <td>0.961000</td>\n",
       "      <td>0.878000</td>\n",
       "      <td>0.869000</td>\n",
       "      <td>0.88500</td>\n",
       "    </tr>\n",
       "  </tbody>\n",
       "</table>\n",
       "<p>2 rows × 174 columns</p>\n",
       "</div>"
      ],
      "text/plain": [
       "   gas      1850      1851      1852      1853      1854      1855      1856  \\\n",
       "0    0  0.000199  0.000196  0.000195  0.000197  0.000199  0.000201  0.000209   \n",
       "1    1  0.000000  0.000000  0.000000  0.000000  0.000000  0.000000  0.000000   \n",
       "\n",
       "       1857      1858  ...   2013     2014     2015     2016     2017  \\\n",
       "0  0.000217  0.000226  ...  0.029  0.02825  0.02725  0.02625  0.02525   \n",
       "1  0.000000  0.000000  ...  0.862  0.87300  0.89900  0.88400  0.91700   \n",
       "\n",
       "       2018      2019      2020      2021     2022  \n",
       "0  0.024675  0.023925  0.022875  0.022325  0.02195  \n",
       "1  0.940000  0.961000  0.878000  0.869000  0.88500  \n",
       "\n",
       "[2 rows x 174 columns]"
      ]
     },
     "execution_count": 7,
     "metadata": {},
     "output_type": "execute_result"
    }
   ],
   "source": [
    "df.head(2)"
   ]
  },
  {
   "cell_type": "code",
   "execution_count": 8,
   "id": "6311d708",
   "metadata": {},
   "outputs": [],
   "source": [
    "from sklearn.preprocessing import StandardScaler"
   ]
  },
  {
   "cell_type": "code",
   "execution_count": 9,
   "id": "ff3f6f7d",
   "metadata": {},
   "outputs": [],
   "source": [
    "scaler=StandardScaler()"
   ]
  },
  {
   "cell_type": "code",
   "execution_count": 10,
   "id": "9b29f519",
   "metadata": {},
   "outputs": [],
   "source": [
    "X=df.drop(columns=['gas'])\n",
    "y=df[['gas']]"
   ]
  },
  {
   "cell_type": "code",
   "execution_count": 11,
   "id": "354f04f2",
   "metadata": {},
   "outputs": [],
   "source": [
    "X_scaler=scaler.fit_transform(X)"
   ]
  },
  {
   "cell_type": "code",
   "execution_count": 12,
   "id": "08bd46b9",
   "metadata": {},
   "outputs": [
    {
     "data": {
      "text/plain": [
       "array([[-1.43158836],\n",
       "       [-0.62059652],\n",
       "       [ 0.19039532],\n",
       "       ...,\n",
       "       [-0.62059652],\n",
       "       [ 0.19039532],\n",
       "       [ 1.00138717]])"
      ]
     },
     "execution_count": 12,
     "metadata": {},
     "output_type": "execute_result"
    }
   ],
   "source": [
    "y_scaler=scaler.fit_transform(y)\n",
    "y_scaler"
   ]
  },
  {
   "cell_type": "code",
   "execution_count": 13,
   "id": "9df97c4b",
   "metadata": {},
   "outputs": [],
   "source": [
    "\n",
    "\n",
    "from sklearn.model_selection import train_test_split\n",
    "\n",
    "X_train,X_test,y_train,y_test=train_test_split(X_scaler,y_scaler)\n",
    "\n"
   ]
  },
  {
   "cell_type": "code",
   "execution_count": 14,
   "id": "a03b5329",
   "metadata": {},
   "outputs": [],
   "source": [
    "from sklearn.linear_model import LinearRegression"
   ]
  },
  {
   "cell_type": "code",
   "execution_count": 15,
   "id": "663e9796",
   "metadata": {},
   "outputs": [],
   "source": [
    "linear_model = LogisticRegression()\n",
    "linear_model.fit(X_train, y_train)\n",
    "linear_predictions = linear_model.predict(X_test)\n",
    "linear_accuracy = linear_model.score(X_test, y_test)"
   ]
  },
  {
   "cell_type": "code",
   "execution_count": 16,
   "id": "ce883eb7",
   "metadata": {
    "scrolled": true
   },
   "outputs": [
    {
     "data": {
      "text/plain": [
       "-136.21692770283494"
      ]
     },
     "execution_count": 16,
     "metadata": {},
     "output_type": "execute_result"
    }
   ],
   "source": [
    "linear_accuracy*100"
   ]
  },
  {
   "cell_type": "code",
   "execution_count": 17,
   "id": "752c263c",
   "metadata": {},
   "outputs": [],
   "source": [
    "from sklearn.ensemble import GradientBoostingRegressor\n",
    "from statsmodels.tsa.holtwinters import ExponentialSmoothing\n",
    "from geneticalgorithm import geneticalgorithm as ga"
   ]
  },
  {
   "cell_type": "code",
   "execution_count": 18,
   "id": "048e4859",
   "metadata": {},
   "outputs": [],
   "source": [
    "#pip install geneticalgorithm"
   ]
  },
  {
   "cell_type": "code",
   "execution_count": 19,
   "id": "20524d34",
   "metadata": {},
   "outputs": [
    {
     "name": "stderr",
     "output_type": "stream",
     "text": [
      "C:\\Users\\gkvte\\anaconda3\\lib\\site-packages\\sklearn\\ensemble\\_gb.py:494: DataConversionWarning: A column-vector y was passed when a 1d array was expected. Please change the shape of y to (n_samples, ), for example using ravel().\n",
      "  y = column_or_1d(y, warn=True)\n"
     ]
    }
   ],
   "source": [
    "X_train,X_test,y_train,y_test=train_test_split(X_scaler,y_scaler)\n",
    "gb_model = GradientBoostingRegressor(random_state=42)\n",
    "gb_model.fit(X_train, y_train)\n",
    "gb_predictions = gb_model.predict(X_test)\n",
    "gb_accuracy = gb_model.score(X_test, y_test)"
   ]
  },
  {
   "cell_type": "code",
   "execution_count": 20,
   "id": "d506fe54",
   "metadata": {},
   "outputs": [
    {
     "data": {
      "text/plain": [
       "31.860138052672394"
      ]
     },
     "execution_count": 20,
     "metadata": {},
     "output_type": "execute_result"
    }
   ],
   "source": [
    "gb_accuracy*100"
   ]
  },
  {
   "cell_type": "code",
   "execution_count": 21,
   "id": "34584a6d",
   "metadata": {},
   "outputs": [
    {
     "name": "stdout",
     "output_type": "stream",
     "text": [
      "173\n",
      "[2.1950e-02 8.8500e-01 9.2100e-01 ... 7.3100e-04 6.9700e-01 4.4402e-02]\n",
      "Dataset Length : 4924\n",
      "Splitted Training Length : 3939\n",
      "Splitted Test Length : 985\n"
     ]
    }
   ],
   "source": [
    "import pandas as pd\n",
    "from sklearn.model_selection import train_test_split\n",
    "df=pd.read_csv(\"PIKemissionnew.csv\")\n",
    "df.drop(columns=['country','Source','sector'], inplace=True)\n",
    "df['gas']=df['gas'].map({'CH4':0,'CO2':1,'KYOTOGHG':2,'N2O':3,'F-Gas':4})\n",
    "rows = df.shape[0]  # gives number of row count\n",
    "cols = df.shape[1]  # gives number of col count\n",
    "features = cols - 1\n",
    "print(features)\n",
    "X = df.values[:, 0:features] \n",
    "Y = df.values[:, features]\n",
    "print(Y)\n",
    "X_train, X_test, y_train, y_test = train_test_split(X, Y, test_size = 0.2, random_state = 0)\n",
    "    \n",
    "     \n",
    "print(\"Dataset Length : \"+str(len(X)))\n",
    "print(\"Splitted Training Length : \"+str(len(X_train)))\n",
    "print(\"Splitted Test Length : \"+str(len(X_test)))"
   ]
  },
  {
   "cell_type": "code",
   "execution_count": 27,
   "id": "32bd190d",
   "metadata": {},
   "outputs": [
    {
     "name": "stderr",
     "output_type": "stream",
     "text": [
      "ERROR: Could not find a version that satisfies the requirement genetic-selection (from versions: none)\n",
      "ERROR: No matching distribution found for genetic-selection\n"
     ]
    }
   ],
   "source": [
    "!pip install genetic-selection"
   ]
  },
  {
   "cell_type": "code",
   "execution_count": 28,
   "id": "f8342b50",
   "metadata": {},
   "outputs": [
    {
     "ename": "ModuleNotFoundError",
     "evalue": "No module named 'genetic_selection'",
     "output_type": "error",
     "traceback": [
      "\u001b[1;31m---------------------------------------------------------------------------\u001b[0m",
      "\u001b[1;31mModuleNotFoundError\u001b[0m                       Traceback (most recent call last)",
      "\u001b[1;32m~\\AppData\\Local\\Temp\\ipykernel_13764\\4060660347.py\u001b[0m in \u001b[0;36m<module>\u001b[1;34m\u001b[0m\n\u001b[1;32m----> 1\u001b[1;33m \u001b[1;32mfrom\u001b[0m \u001b[0mgenetic_selection\u001b[0m \u001b[1;32mimport\u001b[0m \u001b[0mGeneticSelectionCV\u001b[0m\u001b[1;33m\u001b[0m\u001b[1;33m\u001b[0m\u001b[0m\n\u001b[0m",
      "\u001b[1;31mModuleNotFoundError\u001b[0m: No module named 'genetic_selection'"
     ]
    }
   ],
   "source": [
    "from genetic_selection import GeneticSelectionCV"
   ]
  },
  {
   "cell_type": "code",
   "execution_count": 72,
   "id": "8220a70b",
   "metadata": {},
   "outputs": [],
   "source": [
    "from statsmodels.tsa.holtwinters import ExponentialSmoothing"
   ]
  },
  {
   "cell_type": "code",
   "execution_count": 73,
   "id": "6df500b4",
   "metadata": {},
   "outputs": [],
   "source": [
    "# Fit the model to your training data\n",
    "model = ExponentialSmoothing(y_train, trend='add', seasonal='add', seasonal_periods=12)  # Adjust these params as needed\n",
    "model_fitted = model.fit()\n",
    "\n",
    "# Make predictions on the test set\n",
    "y_pred = model_fitted.forecast(len(y_test))"
   ]
  },
  {
   "cell_type": "code",
   "execution_count": 74,
   "id": "d43e1e54",
   "metadata": {},
   "outputs": [
    {
     "name": "stdout",
     "output_type": "stream",
     "text": [
      "Mean Absolute Error: 0.8543696931833914\n",
      "Root Mean Squared Error: 0.9976481737803872\n"
     ]
    }
   ],
   "source": [
    "from sklearn.metrics import mean_absolute_error, mean_squared_error\n",
    "import numpy as np\n",
    "\n",
    "# Compute accuracy metrics\n",
    "mae = mean_absolute_error(y_test, y_pred)\n",
    "rmse = np.sqrt(mean_squared_error(y_test, y_pred))\n",
    "\n",
    "print(f'Mean Absolute Error: {mae}')\n",
    "print(f'Root Mean Squared Error: {rmse}')"
   ]
  },
  {
   "cell_type": "code",
   "execution_count": null,
   "id": "397eb54e",
   "metadata": {},
   "outputs": [],
   "source": []
  }
 ],
 "metadata": {
  "kernelspec": {
   "display_name": "Python 3 (ipykernel)",
   "language": "python",
   "name": "python3"
  },
  "language_info": {
   "codemirror_mode": {
    "name": "ipython",
    "version": 3
   },
   "file_extension": ".py",
   "mimetype": "text/x-python",
   "name": "python",
   "nbconvert_exporter": "python",
   "pygments_lexer": "ipython3",
   "version": "3.9.13"
  }
 },
 "nbformat": 4,
 "nbformat_minor": 5
}
